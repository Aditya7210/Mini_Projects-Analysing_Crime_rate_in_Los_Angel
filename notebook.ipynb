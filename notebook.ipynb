{
 "cells": [
  {
   "cell_type": "markdown",
   "id": "31ab2131-3049-4d8d-b9dc-d195f72af27a",
   "metadata": {},
   "source": [
    "## Data_Analysis_of_Crime_rate_in_Los_Angeles\n",
    "\n",
    "`Author: Aditya Aggarwal`\n",
    "\n",
    "![Los Angeles skyline](la_skyline.jpg)\n",
    "\n",
    "Los Angeles, California 😎. The City of Angels. Tinseltown. The Entertainment Capital of the World! \n",
    "\n",
    "Known for its warm weather, palm trees, sprawling coastline, and Hollywood, along with producing some of the most iconic films and songs. However, as with any highly populated city, it isn't always glamorous and there can be a large volume of crime. That's where you can help!\n",
    "\n",
    "## The Data\n",
    "# crimes.csv\n",
    "\n",
    "| Column     | Description              |\n",
    "|------------|--------------------------|\n",
    "| `'DR_NO'` | Division of Records Number: Official file number made up of a 2-digit year, area ID, and 5 digits. |\n",
    "| `'Date Rptd'` | Date reported - MM/DD/YYYY. |\n",
    "| `'DATE OCC'` | Date of occurrence - MM/DD/YYYY. |\n",
    "| `'TIME OCC'` | In 24-hour military time. |\n",
    "| `'AREA NAME'` | The 21 Geographic Areas or Patrol Divisions are also given a name designation that references a landmark or the surrounding community that it is responsible for. For example, the 77th Street Division is located at the intersection of South Broadway and 77th Street, serving neighborhoods in South Los Angeles. |\n",
    "| `'Crm Cd Desc'` | Indicates the crime committed. |\n",
    "| `'Vict Age'` | Victim's age in years. |\n",
    "| `'Vict Sex'` | Victim's sex: `F`: Female, `M`: Male, `X`: Unknown. |\n",
    "| `'Vict Descent'` | Victim's descent:<ul><li>`A` - Other Asian</li><li>`B` - Black</li><li>`C` - Chinese</li><li>`D` - Cambodian</li><li>`F` - Filipino</li><li>`G` - Guamanian</li><li>`H` - Hispanic/Latin/Mexican</li><li>`I` - American Indian/Alaskan Native</li><li>`J` - Japanese</li><li>`K` - Korean</li><li>`L` - Laotian</li><li>`O` - Other</li><li>`P` - Pacific Islander</li><li>`S` - Samoan</li><li>`U` - Hawaiian</li><li>`V` - Vietnamese</li><li>`W` - White</li><li>`X` - Unknown</li><li>`Z` - Asian Indian</li> |\n",
    "| `'Weapon Desc'` | Description of the weapon used (if applicable). |\n",
    "| `'Status Desc'` | Crime status. |\n",
    "| `'LOCATION'` | Street address of the crime. |"
   ]
  },
  {
   "cell_type": "code",
   "execution_count": 1,
   "id": "53eada96-447c-46c3-9848-f4ca3de53d06",
   "metadata": {},
   "outputs": [],
   "source": [
    "# Import required libraries\n",
    "import pandas as pd\n",
    "import numpy as np\n",
    "import matplotlib.pyplot as plt\n",
    "import seaborn as sns"
   ]
  },
  {
   "cell_type": "markdown",
   "id": "985484b6",
   "metadata": {},
   "source": [
    "EXPLANATION OF THE CODE OF THE ABOVE CODE CELL\n",
    "\n",
    "1. pandas (pd):\n",
    "Used for data manipulation and analysis.\n",
    "Helps with reading/writing datasets, cleaning, transforming, and summarizing data.\n",
    "\n",
    "Example:\n",
    "df = pd.read_csv(\"data.csv\")  # Reads a CSV file into a DataFrame.\n",
    "\n",
    "2. numpy (np):\n",
    "Used for numerical computations.\n",
    "Provides support for arrays and mathematical operations on large datasets.\n",
    "\n",
    "Example:\n",
    "arr = np.array([1, 2, 3])  # Creates a NumPy array.\n",
    "\n",
    "3. matplotlib.pyplot (plt):\n",
    "Used for creating static, interactive, and animated visualizations.\n",
    "Commonly used for creating line plots, bar charts, and scatter plots.\n",
    "\n",
    "Example:\n",
    "plt.plot([1, 2, 3], [4, 5, 6])  # Creates a line plot.\n",
    "plt.show()\n",
    "\n",
    "4. seaborn (sns):\n",
    "Built on top of Matplotlib for advanced statistical visualizations.\n",
    "Provides beautiful themes and high-level interfaces for visualizing data.\n",
    "\n",
    "Example:\n",
    "sns.countplot(data=df, x=\"column_name\")  # Creates a count plot."
   ]
  },
  {
   "cell_type": "code",
   "execution_count": 2,
   "id": "410d65b6",
   "metadata": {},
   "outputs": [
    {
     "data": {
      "image/png": "[encoded data removed]",
      "text/plain": [
       "<Figure size 640x480 with 1 Axes>"
      ]
     },
     "metadata": {},
     "output_type": "display_data"
    }
   ],
   "source": [
    "# Read in and preview the dataset\n",
    "crimes = pd.read_csv(\"C:\\\\PROJECTS\\\\Analyse_the_crime_in_los_angeles\\\\crimes.csv\", parse_dates=[\"Date Rptd\", \"DATE OCC\"], dtype={\"TIME OCC\": str})\n",
    "crimes.head()\n",
    "\n",
    "## Which hour has the highest frequency of crimes? Store as an integer variable called peak_crime_hour\n",
    "\n",
    "# Extract the first two digits from \"TIME OCC\", representing the hour,\n",
    "# and convert to integer data type\n",
    "crimes[\"HOUR OCC\"] = crimes[\"TIME OCC\"].str[:2].astype(int)\n",
    "\n",
    "# Preview the DataFrame to confirm the new column is correct\n",
    "crimes.head()\n",
    "\n",
    "# Produce a countplot to find the largest frequency of crimes by hour\n",
    "sns.countplot(data=crimes, x=\"HOUR OCC\")\n",
    "plt.show()\n",
    "\n",
    "# Midday has the largest volume of crime\n",
    "peak_crime_hour = 12"
   ]
  },
  {
   "cell_type": "markdown",
   "id": "3c60aa09",
   "metadata": {},
   "source": [
    "EXPLANATION OF THE CODE OF THE ABOVE CODE CELL\n",
    "\n",
    "1. pd.read_csv:\n",
    "Reads the dataset and converts specified columns (Date Rptd, DATE OCC) into datetime format using parse_dates.\n",
    "Sets the TIME OCC column as a string using dtype={\"TIME OCC\": str} to preserve leading zeros.\n",
    "\n",
    "2. crimes[\"HOUR OCC\"] = crimes[\"TIME OCC\"].str[:2].astype(int):\n",
    "Extracts the first two characters from TIME OCC using .str[:2] to represent the hour.\n",
    "Converts the extracted string into an integer using .astype(int).\n",
    "\n",
    "3. sns.countplot(data=crimes, x=\"HOUR OCC\"):\n",
    "Creates a count plot with the HOUR OCC column to visualize the frequency of crimes per hour.\n",
    "\n",
    "4. peak_crime_hour = 12:\n",
    "Assigns the hour with the highest frequency of crimes (12 PM) to the variable peak_crime_hour.\n"
   ]
  },
  {
   "cell_type": "code",
   "execution_count": 3,
   "id": "75f7d53e",
   "metadata": {},
   "outputs": [
    {
     "name": "stdout",
     "output_type": "stream",
     "text": [
      "The area with the largest volume of night crime is Central\n"
     ]
    }
   ],
   "source": [
    "## Which area has the largest frequency of night crimes (crimes committed between 10pm and 3:59am)? \n",
    "## Save as a string variable called peak_night_crime_location\n",
    "# Filter for the night-time hours\n",
    "# 0 = midnight; 3 = crimes between 3am and 3:59am, i.e., don't include 4\n",
    "night_time = crimes[crimes[\"HOUR OCC\"].isin([22,23,0,1,2,3])]\n",
    "\n",
    "# Group by \"AREA NAME\" and count occurrences, filtering for the largest value and saving the \"AREA NAME\"\n",
    "peak_night_crime_location = night_time.groupby(\"AREA NAME\", \n",
    "                                               as_index=False)[\"HOUR OCC\"].count().sort_values(\"HOUR OCC\",\n",
    "                                                                                               ascending=False).iloc[0][\"AREA NAME\"]\n",
    "# Print the peak night crime location\n",
    "print(f\"The area with the largest volume of night crime is {peak_night_crime_location}\")"
   ]
  },
  {
   "cell_type": "markdown",
   "id": "f0c0ab9e",
   "metadata": {},
   "source": [
    "EXPLANATION OF THE CODE OF THE ABOVE CODE CELL\n",
    "\n",
    "1. night_time = crimes[crimes[\"HOUR OCC\"].isin([22,23,0,1,2,3])]:\n",
    "Filters the dataset to include only rows where the hour of occurrence (HOUR OCC) falls within the range of night-time hours (10 PM to 3:59 AM).\n",
    "\n",
    "2. night_time.groupby(\"AREA NAME\", as_index=False)[\"HOUR OCC\"].count():\n",
    "Groups the filtered data by the AREA NAME column.\n",
    "Counts the occurrences of crimes for each area.\n",
    "\n",
    "3. .sort_values(\"HOUR OCC\", ascending=False):\n",
    "Sorts the grouped data in descending order based on the count of crimes.\n",
    "\n",
    "4. .iloc[0][\"AREA NAME\"]:\n",
    "Extracts the AREA NAME with the highest count (first row after sorting).\n",
    "\n",
    "5. peak_night_crime_location = ...:\n",
    "Stores the area with the highest frequency of night crimes in the variable peak_night_crime_location.\n",
    "\n",
    "6. print(f\"The area with the largest volume of night crime is {peak_night_crime_location}\"):\n",
    "Prints the name of the area with the highest frequency of night crimes."
   ]
  },
  {
   "cell_type": "code",
   "execution_count": 4,
   "id": "377074c7",
   "metadata": {},
   "outputs": [
    {
     "name": "stdout",
     "output_type": "stream",
     "text": [
      "Age Bracket\n",
      "26-34    47470\n",
      "35-44    42157\n",
      "45-54    28353\n",
      "18-25    28291\n",
      "55-64    20169\n",
      "65+      14747\n",
      "0-17      4528\n",
      "Name: count, dtype: int64\n"
     ]
    }
   ],
   "source": [
    "## Identify the number of crimes committed against victims by age group (0-17, 18-25, 26-34, 35-44, 45-54, 55-64, 65+) \n",
    "## Save as a pandas Series called victim_ages\n",
    "# Create bins and labels for victim age ranges\n",
    "age_bins = [0, 17, 25, 34, 44, 54, 64, np.inf]\n",
    "age_labels = [\"0-17\", \"18-25\", \"26-34\", \"35-44\", \"45-54\", \"55-64\", \"65+\"]\n",
    "\n",
    "# Add a new column using pd.cut() to bin values into discrete intervals\n",
    "crimes[\"Age Bracket\"] = pd.cut(crimes[\"Vict Age\"],\n",
    "                               bins=age_bins,\n",
    "                               labels=age_labels)\n",
    "\n",
    "# Find the category with the largest frequency\n",
    "victim_ages = crimes[\"Age Bracket\"].value_counts()\n",
    "print(victim_ages)"
   ]
  },
  {
   "cell_type": "markdown",
   "id": "5e4300f2",
   "metadata": {},
   "source": [
    "EXPLANATION OF THE CODE OF THE ABOVE CODE CELL \n",
    "\n",
    "1. age_bins = [0, 17, 25, 34, 44, 54, 64, np.inf]:\n",
    "Defines the age intervals for categorizing victims.\n",
    "np.inf is used to represent ages 65 and above.\n",
    "\n",
    "2. age_labels = [\"0-17\", \"18-25\", \"26-34\", \"35-44\", \"45-54\", \"55-64\", \"65+\"]:\n",
    "Provides labels for the corresponding age intervals.\n",
    "\n",
    "3. crimes[\"Age Bracket\"] = pd.cut(crimes[\"Vict Age\"], bins=age_bins, labels=age_labels):\n",
    "Uses pd.cut() to create a new column, Age Bracket, that categorizes the Vict Age column into the defined age groups.\n",
    "\n",
    "4. victim_ages = crimes[\"Age Bracket\"].value_counts():\n",
    "Counts the number of crimes committed against victims in each age group and saves the result as a Pandas Series named victim_ages.\n",
    "\n",
    "5. print(victim_ages):\n",
    "Displays the count of crimes for each age group."
   ]
  },
  {
   "cell_type": "markdown",
   "id": "9c4999c8",
   "metadata": {},
   "source": [
    "CONCLUSION OF THE PROJECT\n",
    "\n",
    "This project provided insights into crime patterns in Los Angeles using a structured dataset. Key findings include:\n",
    "\n",
    "1. Peak Crime Times:\n",
    "\n",
    "The highest crime frequency occurs at midday (12 PM).\n",
    "Night crimes (10 PM to 3:59 AM) are most frequent in the Central area.\n",
    "\n",
    "2. Victim Demographics:\n",
    "\n",
    "The 26–34 age group faces the most crimes, followed by the 35–44 age group.\n",
    "\n",
    "3. Data Analysis Techniques:\n",
    "\n",
    "Used Python libraries (pandas, numpy, matplotlib, and seaborn) to clean, process, and visualize the data effectively.\n",
    "Grouping, binning, and visual exploration techniques revealed actionable insights.\n",
    "Implications\n",
    "The analysis highlights the need for targeted resource allocation during peak crime hours and in high-crime areas like Central Los Angeles. Future studies can explore causative factors for these patterns to inform policy-making and public safety measures."
   ]
  }
 ],
 "metadata": {
  "colab": {
   "name": "Welcome to DataCamp Workspaces.ipynb",
   "provenance": []
  },
  "kernelspec": {
   "display_name": "Python 3",
   "language": "python",
   "name": "python3"
  },
  "language_info": {
   "codemirror_mode": {
    "name": "ipython",
    "version": 3
   },
   "file_extension": ".py",
   "mimetype": "text/x-python",
   "name": "python",
   "nbconvert_exporter": "python",
   "pygments_lexer": "ipython3",
   "version": "3.13.1"
  }
 },
 "nbformat": 4,
 "nbformat_minor": 5
}
